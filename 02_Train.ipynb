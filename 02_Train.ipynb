{
 "cells": [
  {
   "cell_type": "code",
   "execution_count": 1,
   "metadata": {},
   "outputs": [],
   "source": [
    "import glob\n",
    "#from pyltp import Segmentor #https://pypi.python.org/pypi/pyltp\n",
    "#import jieba  #https://pypi.org/project/jieba/#description\n",
    "import pandas as pd\n",
    "import numpy as np\n",
    "import matplotlib.pyplot as plt\n",
    "from sklearn.model_selection import train_test_split\n",
    "from sklearn.naive_bayes import MultinomialNB\n",
    "from sklearn import svm\n",
    "from sklearn.feature_extraction.text import CountVectorizer\n",
    "from sklearn.feature_extraction.text import TfidfVectorizer\n",
    "from sklearn.metrics import f1_score\n",
    "\n",
    "#stop word\n",
    "#https://github.com/dongxiexidian/Chinese/blob/master/stopwords.dat\n",
    "#https://www.kaggle.com/adamschroeder/countvectorizer-tfidfvectorizer-predict-comments  CountVectorizer, TfidfVectorizer, Predict Comments\n",
    "#https://towardsdatascience.com/machine-learning-nlp-text-classification-using-scikit-learn-python-and-nltk-c52b92a7c73a"
   ]
  },
  {
   "cell_type": "code",
   "execution_count": 2,
   "metadata": {},
   "outputs": [],
   "source": [
    "#import master file to pickle\n",
    "df_master_w_class = pd.read_pickle('df_master_w_class.pkl')\n",
    "#stopwords = pd.read_csv(\"stop_word_sim_chinese.txt\") \n",
    "#df_master_w_class['tokenized_text'].apply(seg_sentence)"
   ]
  },
  {
   "cell_type": "code",
   "execution_count": 3,
   "metadata": {},
   "outputs": [],
   "source": [
    "df_labelled = df_master_w_class[~df_master_w_class['class'].isnull()]\n",
    "df_predict = df_master_w_class[df_master_w_class['class'].isnull()]\n",
    "#df_labelled.to_csv('df_train.csv', index = False, encoding = 'utf-8')"
   ]
  },
  {
   "cell_type": "code",
   "execution_count": 4,
   "metadata": {},
   "outputs": [
    {
     "data": {
      "text/html": [
       "<div>\n",
       "<style scoped>\n",
       "    .dataframe tbody tr th:only-of-type {\n",
       "        vertical-align: middle;\n",
       "    }\n",
       "\n",
       "    .dataframe tbody tr th {\n",
       "        vertical-align: top;\n",
       "    }\n",
       "\n",
       "    .dataframe thead th {\n",
       "        text-align: right;\n",
       "    }\n",
       "</style>\n",
       "<table border=\"1\" class=\"dataframe\">\n",
       "  <thead>\n",
       "    <tr style=\"text-align: right;\">\n",
       "      <th></th>\n",
       "      <th>dataset</th>\n",
       "      <th>comments_count</th>\n",
       "      <th>created_at</th>\n",
       "      <th>id</th>\n",
       "      <th>likes_count</th>\n",
       "      <th>retweets_count</th>\n",
       "      <th>text</th>\n",
       "      <th>user_id</th>\n",
       "      <th>class</th>\n",
       "      <th>class_name</th>\n",
       "      <th>tokenized_text</th>\n",
       "    </tr>\n",
       "  </thead>\n",
       "  <tbody>\n",
       "    <tr>\n",
       "      <th>22</th>\n",
       "      <td>df_1_8</td>\n",
       "      <td>0</td>\n",
       "      <td>2016-03-18 17:45:00</td>\n",
       "      <td>DmQ7aCjDD</td>\n",
       "      <td>0</td>\n",
       "      <td>3</td>\n",
       "      <td>:「蘇富比钻石」展售会及「瑰丽珠宝及翡翠首饰」春拍预展将于3月23至24日于#香港蘇富比艺术...</td>\n",
       "      <td>2308351693</td>\n",
       "      <td>7.0</td>\n",
       "      <td>Jewellery</td>\n",
       "      <td>蘇 富比 钻石 展售会 瑰丽 珠宝 翡翠 首饰 春拍 预展 月  mask_num   ma...</td>\n",
       "    </tr>\n",
       "    <tr>\n",
       "      <th>27</th>\n",
       "      <td>df_1_8</td>\n",
       "      <td>1</td>\n",
       "      <td>2016-03-16 16:34:00</td>\n",
       "      <td>DmwNjrIXz</td>\n",
       "      <td>2</td>\n",
       "      <td>4</td>\n",
       "      <td>:#蘇富比洋酒零售#专家为您挑选多款1000港元以下的一级酒庄和布艮地特级酒酿。300港元以...</td>\n",
       "      <td>2308351693</td>\n",
       "      <td>8.0</td>\n",
       "      <td>Artefact</td>\n",
       "      <td>蘇 富比 洋酒 零售 专家 挑选 多款  mask_num  港元 一级 酒庄 布艮地 特级...</td>\n",
       "    </tr>\n",
       "    <tr>\n",
       "      <th>50</th>\n",
       "      <td>df_1_8</td>\n",
       "      <td>2</td>\n",
       "      <td>2017-02-15 17:54:00</td>\n",
       "      <td>EvFscAk97</td>\n",
       "      <td>10</td>\n",
       "      <td>7</td>\n",
       "      <td>:#纽约蘇富比#亚洲艺术周将于3月举槌，呈献7场拍卖及1场展售会，共囊括逾1,200件拍品！...</td>\n",
       "      <td>2308351693</td>\n",
       "      <td>5.0</td>\n",
       "      <td>Chinese PDC</td>\n",
       "      <td>纽约 蘇 富比 亚洲 艺术 周将 月 举槌 呈献 场 拍卖 场展 售会 共 囊括 逾  ma...</td>\n",
       "    </tr>\n",
       "    <tr>\n",
       "      <th>59</th>\n",
       "      <td>df_1_8</td>\n",
       "      <td>1</td>\n",
       "      <td>2017-03-11 11:06:00</td>\n",
       "      <td>Ezh2zm0WS</td>\n",
       "      <td>8</td>\n",
       "      <td>2</td>\n",
       "      <td>:#香港蘇富比#将于4月4日举行「人间异珍：奇．趣」拍卖。今天，蘇富比中国艺术品部国际主管及...</td>\n",
       "      <td>2308351693</td>\n",
       "      <td>8.0</td>\n",
       "      <td>Artefact</td>\n",
       "      <td>香港 蘇 富比 月 日 人间 异珍 奇 ． 趣 拍卖 蘇 富比 中国 艺术品 部 国际 主管...</td>\n",
       "    </tr>\n",
       "    <tr>\n",
       "      <th>72</th>\n",
       "      <td>df_1_8</td>\n",
       "      <td>2</td>\n",
       "      <td>2016-11-17 17:00:00</td>\n",
       "      <td>EhYDxfyXE</td>\n",
       "      <td>18</td>\n",
       "      <td>12</td>\n",
       "      <td>:昨天，#日内瓦蘇富比#「瑰丽珠宝及贵族首饰」拍卖录得1亿3,670万瑞士法郎成交额，创出该...</td>\n",
       "      <td>2308351693</td>\n",
       "      <td>7.0</td>\n",
       "      <td>Jewellery</td>\n",
       "      <td>昨天 日内瓦 蘇 富比 瑰丽 珠宝 贵族 首饰 拍卖 录得 亿  mask_num  万 瑞...</td>\n",
       "    </tr>\n",
       "  </tbody>\n",
       "</table>\n",
       "</div>"
      ],
      "text/plain": [
       "   dataset  comments_count          created_at         id  likes_count  \\\n",
       "22  df_1_8               0 2016-03-18 17:45:00  DmQ7aCjDD            0   \n",
       "27  df_1_8               1 2016-03-16 16:34:00  DmwNjrIXz            2   \n",
       "50  df_1_8               2 2017-02-15 17:54:00  EvFscAk97           10   \n",
       "59  df_1_8               1 2017-03-11 11:06:00  Ezh2zm0WS            8   \n",
       "72  df_1_8               2 2016-11-17 17:00:00  EhYDxfyXE           18   \n",
       "\n",
       "    retweets_count                                               text  \\\n",
       "22               3  :「蘇富比钻石」展售会及「瑰丽珠宝及翡翠首饰」春拍预展将于3月23至24日于#香港蘇富比艺术...   \n",
       "27               4  :#蘇富比洋酒零售#专家为您挑选多款1000港元以下的一级酒庄和布艮地特级酒酿。300港元以...   \n",
       "50               7  :#纽约蘇富比#亚洲艺术周将于3月举槌，呈献7场拍卖及1场展售会，共囊括逾1,200件拍品！...   \n",
       "59               2  :#香港蘇富比#将于4月4日举行「人间异珍：奇．趣」拍卖。今天，蘇富比中国艺术品部国际主管及...   \n",
       "72              12  :昨天，#日内瓦蘇富比#「瑰丽珠宝及贵族首饰」拍卖录得1亿3,670万瑞士法郎成交额，创出该...   \n",
       "\n",
       "       user_id  class   class_name  \\\n",
       "22  2308351693    7.0    Jewellery   \n",
       "27  2308351693    8.0     Artefact   \n",
       "50  2308351693    5.0  Chinese PDC   \n",
       "59  2308351693    8.0     Artefact   \n",
       "72  2308351693    7.0    Jewellery   \n",
       "\n",
       "                                       tokenized_text  \n",
       "22  蘇 富比 钻石 展售会 瑰丽 珠宝 翡翠 首饰 春拍 预展 月  mask_num   ma...  \n",
       "27  蘇 富比 洋酒 零售 专家 挑选 多款  mask_num  港元 一级 酒庄 布艮地 特级...  \n",
       "50  纽约 蘇 富比 亚洲 艺术 周将 月 举槌 呈献 场 拍卖 场展 售会 共 囊括 逾  ma...  \n",
       "59  香港 蘇 富比 月 日 人间 异珍 奇 ． 趣 拍卖 蘇 富比 中国 艺术品 部 国际 主管...  \n",
       "72  昨天 日内瓦 蘇 富比 瑰丽 珠宝 贵族 首饰 拍卖 录得 亿  mask_num  万 瑞...  "
      ]
     },
     "execution_count": 4,
     "metadata": {},
     "output_type": "execute_result"
    }
   ],
   "source": [
    "df_labelled.head()"
   ]
  },
  {
   "cell_type": "code",
   "execution_count": 5,
   "metadata": {},
   "outputs": [
    {
     "data": {
      "image/png": "[encoded data removed]",
      "text/plain": [
       "<matplotlib.figure.Figure at 0x1966fa83dd8>"
      ]
     },
     "metadata": {},
     "output_type": "display_data"
    }
   ],
   "source": [
    "#df_train['id'].groupby([df_train['created_at'].dt.year, df_train['created_at'].dt.month])df_train['class'].agg({'count'})\n",
    "#df_train.groupby([df_train[\"created_at\"].dt.year,'class']).count().plot(kind=\"line\")\n",
    "df_labelled.groupby(df_labelled[\"created_at\"].dt.year)['class'].count().plot(kind=\"line\")\n",
    "plt.show()"
   ]
  },
  {
   "cell_type": "code",
   "execution_count": 14,
   "metadata": {},
   "outputs": [],
   "source": [
    "def vectorizer(df, tf_or_tfidf, nb_or_svm, random_state):\n",
    "    \n",
    "    #train test split\n",
    "    X_train, X_test, y_train, y_test = train_test_split(df['tokenized_text'], df['class'], train_size =0.80, test_size = 0.2, random_state = random_state)\n",
    "    \n",
    "    if tf_or_tfidf == 'tf':\n",
    "        # tokenize and build vocab by CountVectorizer\n",
    "        vect = CountVectorizer().fit(X_train)\n",
    "    elif tf_or_tfidf == 'tfidf':\n",
    "        # tokenize and build vocab by TD-IDF\n",
    "        #vect = TfidfVectorizer(min_df=0.05, max_df=0.95, ngram_range=(1,2)).fit(X_train)\n",
    "        vect = TfidfVectorizer(min_df=5).fit(X_train)\n",
    "        \n",
    "    X_train_vectorized = vect.transform(X_train)\n",
    "    \n",
    "    if nb_or_svm == 'nb':\n",
    "        model = MultinomialNB()\n",
    "    elif nb_or_svm == 'svm':\n",
    "        model = svm.SVC(kernel='linear')\n",
    "        \n",
    "    model.fit(X_train_vectorized , y_train)\n",
    "    prediction = model.predict(vect.transform(X_test))\n",
    "    \n",
    "    #return prediction\n",
    "    \n",
    "    return print(\"F1 score(\", tf_or_tfidf, nb_or_svm,\"):\" , f1_score(y_test, prediction, average='macro'))"
   ]
  },
  {
   "cell_type": "code",
   "execution_count": 15,
   "metadata": {},
   "outputs": [
    {
     "name": "stderr",
     "output_type": "stream",
     "text": [
      "C:\\Users\\Tse\\Anaconda3\\lib\\site-packages\\sklearn\\metrics\\classification.py:1135: UndefinedMetricWarning: F-score is ill-defined and being set to 0.0 in labels with no predicted samples.\n",
      "  'precision', 'predicted', average, warn_for)\n"
     ]
    },
    {
     "name": "stdout",
     "output_type": "stream",
     "text": [
      "F1 score( tf nb ): 0.7069842024691523\n",
      "F1 score( tf svm ): 0.6956051283520182\n",
      "F1 score( tfidf nb ): 0.2539706611853756\n",
      "F1 score( tfidf svm ): 0.34450322928513166\n"
     ]
    }
   ],
   "source": [
    "vectorizer(df_labelled, 'tf', 'nb', 243)\n",
    "vectorizer(df_labelled, 'tf', 'svm', 243)\n",
    "vectorizer(df_labelled, 'tfidf', 'nb', 243)\n",
    "vectorizer(df_labelled, 'tfidf', 'svm', 243)"
   ]
  },
  {
   "cell_type": "code",
   "execution_count": 8,
   "metadata": {},
   "outputs": [],
   "source": [
    "#train test split\n",
    "X_train, X_test, y_train, y_test = train_test_split(df_labelled['tokenized_text'], df_labelled['class'], train_size =0.80, test_size = 0.2, random_state = 192)"
   ]
  },
  {
   "cell_type": "code",
   "execution_count": 9,
   "metadata": {},
   "outputs": [
    {
     "name": "stdout",
     "output_type": "stream",
     "text": [
      "['bmw', 'cn', 'cnbc', 'doge', 'good', 'gt', 'km', 'led', 'lpga', 'mask_num', 'shanshanfeng', 'suv', '一个', '一代', '一件', '一位', '一台', '一名', '一场', '一家', '一年', '一款', '一种', '一系列', '一览', '万元', '万港元', '万美元', '上市', '上市公司', '上海', '上涨', '下午', '下跌', '下降', '不再', '不到', '不少', '不语', '不错', '专场', '专家', '世界', '世界排名', '世纪', '业绩', '两个', '两位', '两种', '中国', '中国书画', '中心', '中控', '主席', '主管', '主题', '举办', '乔丹', '书画', '事件', '二十世纪', '亚洲', '交出', '交易', '产品', '亮点', '亮相', '人士', '人民币', '亿元', '亿美元', '今日', '代表', '令人', '价值', '价格', '企业', '伍兹', '优势', '优秀', '传奇', '传统', '伦敦', '估价', '位于', '低于', '体验', '作品', '作者', '佳士得', '依然', '信息', '俱乐部', '债务', '偷笑', '允悲', '充满', '充电', '克罗伊', '全国', '全新', '全日空', '全球', '公司', '公布', '公开', '公开赛', '公里', '关注', '内地', '内饰', '再度', '再次', '冠军', '冯珊珊', '决赛', '凤凰', '出行', '分享', '分析师', '刚刚', '创下', '创作', '利润', '利率', '到底', '制作', '刷新', '功率', '加上', '加油', '动力', '努力', '包括', '北京', '十年', '升至', '南非', '卫冕冠军', '印象', '印象派', '危机', '即将', '历史', '去年', '参加', '发动机', '发展', '发布', '发布会', '发现', '发生', '变化', '变速箱', '古代', '只能', '吃惊', '合作', '名表', '启动', '吴阿顺', '吸引', '呈献', '呈现', '告诉', '周一', '周末', '品牌', '售价', '唯一', '喜欢', '回应', '回顾', '围观', '国内', '国家', '国际', '图片', '地位', '地方', '城市', '基金', '增加', '增压', '增长', '外观', '多功能', '大众', '大师', '大师赛', '大满贯', '大灯', '央行', '奔驰', '奖金', '套路', '奥迪', '女子', '如今', '媒体', '学习', '学校', '学生', '孩子', '它会', '完美', '官图', '官方', '定价', '宝马', '家族', '家长', '富比', '将会', '小学', '小时', '小米', '小鸟', '尺寸', '展出', '展售会', '展览', '峰值', '巡赛', '工作', '市场', '希望', '带来', '年代', '年度', '年轻', '并列', '幼儿园', '幽默', '座椅', '开启', '开幕', '引发', '张大千', '当代', '当代艺术', '当地', '录制', '影响', '很多', '微信', '微博', '思考', '总成绩', '情况', '憧憬', '成交', '成交额', '成功', '成绩', '或许', '房价', '房地产', '手机', '打出', '打造', '扭矩', '扯扯', '技术', '投资', '投资者', '报告', '报道', '拍卖', '拍卖会', '拍品', '拍场', '拥有', '持续', '指出', '据悉', '排名', '接受', '推出', '提供', '提升', '提醒', '提高', '揭晓', '搞笑', '搭载', '摄像头', '支持', '收入', '收官', '收益', '收藏', '改装', '政府', '政策', '故事', '教育', '数据', '文化', '斯皮思', '新款', '新浪', '新能源', '新车', '新闻', '方向盘', '方式', '旗下', '日本', '日至', '早晨', '时代', '时刻', '时间', '明天', '明年', '明日', '春拍', '昨日', '显示', '显示屏', '晋级', '晚上', '晚拍', '晚间', '曝光', '更是', '最佳', '最新', '最终', '有人', '期待', '期间', '未来', '本周', '本场', '本季', '本田', '机会', '机构', '李昊桐', '来看', '来自', '来说', '杰作', '果岭', '标准杆', '模式', '欧巡', '欧洲', '正式', '此前', '此次', '比赛', '水墨', '水平', '汽车', '活动', '浏览', '海外', '消息', '消费者', '液晶', '混动', '游戏', '热门', '焦点', '爱极客', '父母', '版本', '特别', '独特', '现场', '珍品', '珍藏', '珍贵', '珠宝', '球员', '球场', '球手', '瑰丽', '瓷器', '生产', '生活', '生涯', '申请', '电子', '男子', '画作', '画面', '留下', '留学', '直播', '相关', '相比', '真的', '研究', '社会', '福勒', '私人', '科技', '空间', '突破', '竟然', '第一', '第一次', '第三轮', '第二', '第二轮', '简单', '精品', '精彩', '精致', '精英赛', '精选', '系列', '系统', '纪录', '纽约', '经典', '经历', '经济', '结束', '绘画', '网上', '网友', '网站', '网络', '美元', '美国', '美女', '美巡', '翡翠', '老师', '老虎', '职业', '联合', '股价', '股份', '股市', '股票', '背后', '腕表', '自动', '自然', '艺术', '艺术品', '艺术家', '英国', '英寸', '苹果', '著名', '藏家', '融资', '行业', '表现', '视频', '计划', '记者', '设计', '证券', '诞生', '详情', '调整', '调查', '豪华', '购买', '费解', '资产', '资格', '资金', '赛事', '赛季', '赛车', '赢得', '赶快', '超跑', '超过', '越来越', '车型', '车展', '车身', '轮圈', '迎来', '运动', '近日', '近期', '这一', '这位', '这是', '这次', '这款', '进一步', '连续', '选手', '选择', '速度', '造型', '部门', '配备', '配置', '采用', '金融', '金额', '针对', '银行', '销售', '销量', '锦标赛', '镜头', '隆重', '雅思', '集团', '集锦', '需求', '面临', '韩国', '顶级', '项目', '预告', '预期', '预计', '领先', '风格', '风险', '首发', '首场', '首次', '首轮', '首饰', '香港', '马力', '驾驶', '高尔夫', '高尔夫球', '高达', '黄金', '鼓掌'] \n",
      "\n",
      "538\n"
     ]
    }
   ],
   "source": [
    "# tokenize and build vocab\n",
    "vect = TfidfVectorizer(min_df=10).fit(X_train)\n",
    "# encode document\n",
    "X_train_vectorized = vect.transform(X_train)\n",
    "#print(X_train_vectorized.shape) much less features than CountVectorizer\n",
    "print(vect.get_feature_names(),'\\n')\n",
    "print(len(vect.get_feature_names()))"
   ]
  },
  {
   "cell_type": "code",
   "execution_count": 10,
   "metadata": {},
   "outputs": [],
   "source": [
    "def perform_simple_count(df_post, max_df, min_df, n_top_words_count):\n",
    "    df_train = df_post[~df_post['class'].isnull()]\n",
    "    keywords = []\n",
    "    for given_class in set(df_train['class']):\n",
    "        df_class = df_train[df_train['class'] == given_class]\n",
    "\n",
    "        # Convert documents into Term-Frequency matrix\n",
    "        tf_vectorizer = CountVectorizer(max_df=max_df, min_df=min_df)\n",
    "        tf = tf_vectorizer.fit_transform(df_class['tokenized_text'].tolist())\n",
    "        \n",
    "        # Add top words to keywords\n",
    "        keywords.extend([keyword for keyword, count in sorted(list(zip(tf_vectorizer.get_feature_names(), np.asarray(tf.sum(axis=0)).ravel())), key=lambda x: x[1], reverse=True)[:n_top_words_count]])\n",
    "        \n",
    "    return list((set(keywords)))"
   ]
  },
  {
   "cell_type": "code",
   "execution_count": 11,
   "metadata": {},
   "outputs": [
    {
     "data": {
      "text/plain": [
       "['楼市',\n",
       " '教师',\n",
       " '债务',\n",
       " '公开赛',\n",
       " '企业',\n",
       " '中国',\n",
       " '孩子',\n",
       " '留学生',\n",
       " '全新',\n",
       " '瑰丽',\n",
       " '黄金',\n",
       " '呈献',\n",
       " '教育',\n",
       " '春拍',\n",
       " '车型',\n",
       " '拍品',\n",
       " '价格',\n",
       " '股市',\n",
       " '翡翠',\n",
       " '中国书画',\n",
       " '亿美元',\n",
       " '银价',\n",
       " '艺术家',\n",
       " '世界',\n",
       " '股票',\n",
       " '微博',\n",
       " 'cn',\n",
       " '扯扯',\n",
       " '纽约',\n",
       " '比赛',\n",
       " '幼儿园',\n",
       " '美国',\n",
       " '富比',\n",
       " '经济',\n",
       " '老师',\n",
       " '首饰',\n",
       " '钻石',\n",
       " '金价',\n",
       " '黄金价格',\n",
       " '房地产',\n",
       " '写作',\n",
       " '家长',\n",
       " 'cnbc',\n",
       " '政府',\n",
       " '银行',\n",
       " '香港',\n",
       " '大涨',\n",
       " '石油',\n",
       " '学生',\n",
       " '留学',\n",
       " '上海',\n",
       " '视频',\n",
       " '拍卖',\n",
       " '住房',\n",
       " '录制',\n",
       " '雅思',\n",
       " '公司',\n",
       " '并列',\n",
       " 'mask_num',\n",
       " '能源',\n",
       " '瓷器',\n",
       " '新浪',\n",
       " '国际',\n",
       " '爱极客',\n",
       " '分析师',\n",
       " '原油',\n",
       " '资本',\n",
       " '市场',\n",
       " '作品',\n",
       " '高尔夫',\n",
       " '马力',\n",
       " '下跌',\n",
       " '艺术',\n",
       " '城市',\n",
       " '美元',\n",
       " '大师赛',\n",
       " '发动机',\n",
       " '房价',\n",
       " '小学',\n",
       " '股价',\n",
       " '佳士得',\n",
       " 'doge']"
      ]
     },
     "execution_count": 11,
     "metadata": {},
     "output_type": "execute_result"
    }
   ],
   "source": [
    "perform_simple_count(df_labelled, 0.8, 0.1, 10)"
   ]
  },
  {
   "cell_type": "code",
   "execution_count": 12,
   "metadata": {},
   "outputs": [],
   "source": [
    "def get_sample_weight(y, num_of_classes=3):\n",
    "    dict_count = {}\n",
    "    y_unique = set(y)\n",
    "    for i in y_unique:\n",
    "        dict_count[i] = sum([True for e in y if e == i])\n",
    "    # get the sample weight\n",
    "    max_count = max(dict_count.values())\n",
    "    sample_weight = {k: v / max_count for k, v in dict_count.items()}\n",
    "    sample_weight_result = [sample_weight[cl] for cl in y]\n",
    "    return sample_weight_result\n",
    "\n",
    "def get_identification_rate(model, test_X, test_y):\n",
    "    preds = model.predict(test_X)\n",
    "    num = 0\n",
    "    for i, pred in enumerate(preds):\n",
    "        if pred == test_y[i]:\n",
    "            num += 1\n",
    "    #print ('\\r\\nidentification rate:' + str(float(num) / len(preds)))\n",
    "    return float(num) / len(preds)"
   ]
  },
  {
   "cell_type": "code",
   "execution_count": 13,
   "metadata": {},
   "outputs": [
    {
     "data": {
      "text/plain": [
       "(1227,)"
      ]
     },
     "execution_count": 13,
     "metadata": {},
     "output_type": "execute_result"
    }
   ],
   "source": [
    "y_train.shape"
   ]
  },
  {
   "cell_type": "code",
   "execution_count": null,
   "metadata": {},
   "outputs": [],
   "source": []
  }
 ],
 "metadata": {
  "kernelspec": {
   "display_name": "Python 3",
   "language": "python",
   "name": "python3"
  },
  "language_info": {
   "codemirror_mode": {
    "name": "ipython",
    "version": 3
   },
   "file_extension": ".py",
   "mimetype": "text/x-python",
   "name": "python",
   "nbconvert_exporter": "python",
   "pygments_lexer": "ipython3",
   "version": "3.6.4"
  }
 },
 "nbformat": 4,
 "nbformat_minor": 2
}
