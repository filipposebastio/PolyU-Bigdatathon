{
 "cells": [
  {
   "cell_type": "code",
   "execution_count": 1,
   "metadata": {},
   "outputs": [],
   "source": [
    "import glob\n",
    "import json\n",
    "#from pyltp import Segmentor #https://pypi.python.org/pypi/pyltp\n",
    "import jieba  #https://pypi.org/project/jieba/#description\n",
    "import pandas as pd\n",
    "import numpy as np\n",
    "\n",
    "path =r'C:\\Users\\Tse\\Documents\\Coursea\\Big Datathon\\UBS Weibo Data\\weibo'\n",
    "#https://blog.csdn.net/u010105243/article/details/53363416"
   ]
  },
  {
   "cell_type": "code",
   "execution_count": null,
   "metadata": {},
   "outputs": [],
   "source": []
  },
  {
   "cell_type": "markdown",
   "metadata": {},
   "source": [
    "### Import data files"
   ]
  },
  {
   "cell_type": "code",
   "execution_count": null,
   "metadata": {},
   "outputs": [],
   "source": [
    "#map provinceand city for the comments  df_province_city['ref_id'] need??\n",
    "df_comment_province_city = pd.merge(df_comment, df_province_city[['province','province_en','city','city_en']], on = ['province','city'])\n",
    "#map comments info to result df\n",
    "comment_location = pd.merge(df_comment_province_city, ******result**********, on = ['id','user_id'], how ='left')\n",
    "#check if comment_location have id not in df_9\n",
    "(set(comment_location['id']) - set(df_9['id']))"
   ]
  },
  {
   "cell_type": "code",
   "execution_count": 11,
   "metadata": {},
   "outputs": [
    {
     "data": {
      "text/html": [
       "<div>\n",
       "<style scoped>\n",
       "    .dataframe tbody tr th:only-of-type {\n",
       "        vertical-align: middle;\n",
       "    }\n",
       "\n",
       "    .dataframe tbody tr th {\n",
       "        vertical-align: top;\n",
       "    }\n",
       "\n",
       "    .dataframe thead th {\n",
       "        text-align: right;\n",
       "    }\n",
       "</style>\n",
       "<table border=\"1\" class=\"dataframe\">\n",
       "  <thead>\n",
       "    <tr style=\"text-align: right;\">\n",
       "      <th></th>\n",
       "      <th>city</th>\n",
       "      <th>u_name</th>\n",
       "      <th>province</th>\n",
       "      <th>user_id</th>\n",
       "    </tr>\n",
       "    <tr>\n",
       "      <th>id</th>\n",
       "      <th></th>\n",
       "      <th></th>\n",
       "      <th></th>\n",
       "      <th></th>\n",
       "    </tr>\n",
       "  </thead>\n",
       "  <tbody>\n",
       "    <tr>\n",
       "      <th>G6RevbiBE</th>\n",
       "      <td>2</td>\n",
       "      <td>了不起的查尔斯</td>\n",
       "      <td>11</td>\n",
       "      <td>5048555731</td>\n",
       "    </tr>\n",
       "    <tr>\n",
       "      <th>G6RevbiBE</th>\n",
       "      <td>5</td>\n",
       "      <td>Pokerface1001</td>\n",
       "      <td>11</td>\n",
       "      <td>3211419333</td>\n",
       "    </tr>\n",
       "    <tr>\n",
       "      <th>G6QJ1aa2Z</th>\n",
       "      <td>3</td>\n",
       "      <td>飞马1515</td>\n",
       "      <td>44</td>\n",
       "      <td>5583941399</td>\n",
       "    </tr>\n",
       "    <tr>\n",
       "      <th>G9Ob5sz8r</th>\n",
       "      <td>1000</td>\n",
       "      <td>原来是酱紫的呀</td>\n",
       "      <td>400</td>\n",
       "      <td>5364706506</td>\n",
       "    </tr>\n",
       "    <tr>\n",
       "      <th>G8hxKuPiM</th>\n",
       "      <td>1000</td>\n",
       "      <td>云舒Cathy</td>\n",
       "      <td>23</td>\n",
       "      <td>2469315565</td>\n",
       "    </tr>\n",
       "  </tbody>\n",
       "</table>\n",
       "</div>"
      ],
      "text/plain": [
       "           city         u_name province     user_id\n",
       "id                                                 \n",
       "G6RevbiBE     2        了不起的查尔斯       11  5048555731\n",
       "G6RevbiBE     5  Pokerface1001       11  3211419333\n",
       "G6QJ1aa2Z     3         飞马1515       44  5583941399\n",
       "G9Ob5sz8r  1000        原来是酱紫的呀      400  5364706506\n",
       "G8hxKuPiM  1000        云舒Cathy       23  2469315565"
      ]
     },
     "execution_count": 11,
     "metadata": {},
     "output_type": "execute_result"
    }
   ],
   "source": [
    "df9_comment = pd.read_json(path + \"/Status_Data9_Comment_Data_with_city_code.json\")\n",
    "# rename columns:  u_city -> city, u_province -> province, cid -> id,  uid -> user_id\n",
    "df9_comment = df9_comment.rename(columns={'u_city': 'city', 'u_province': 'province', 'cid': 'id', 'uid': 'user_id'}).set_index('id')\n",
    "\n",
    "#df9_comment[df9_comment.duplicated()].shape (6953, 4)\n",
    "\n",
    "#drop duplicate\n",
    "df9_comment.drop_duplicates(keep='first', inplace=True)\n",
    "\n",
    "#df9_comment.shape (10447, 4)\n",
    "\n",
    "df9_comment.head()"
   ]
  },
  {
   "cell_type": "code",
   "execution_count": 5,
   "metadata": {},
   "outputs": [
    {
     "data": {
      "text/html": [
       "<div>\n",
       "<style scoped>\n",
       "    .dataframe tbody tr th:only-of-type {\n",
       "        vertical-align: middle;\n",
       "    }\n",
       "\n",
       "    .dataframe tbody tr th {\n",
       "        vertical-align: top;\n",
       "    }\n",
       "\n",
       "    .dataframe thead th {\n",
       "        text-align: right;\n",
       "    }\n",
       "</style>\n",
       "<table border=\"1\" class=\"dataframe\">\n",
       "  <thead>\n",
       "    <tr style=\"text-align: right;\">\n",
       "      <th></th>\n",
       "      <th>city</th>\n",
       "      <th>city_en</th>\n",
       "      <th>city_sc</th>\n",
       "      <th>city_tc</th>\n",
       "      <th>province</th>\n",
       "      <th>province_en</th>\n",
       "      <th>province_sc</th>\n",
       "      <th>province_tc</th>\n",
       "      <th>ref_id</th>\n",
       "    </tr>\n",
       "  </thead>\n",
       "  <tbody>\n",
       "    <tr>\n",
       "      <th>0</th>\n",
       "      <td>1</td>\n",
       "      <td>Dongcheng</td>\n",
       "      <td>东城</td>\n",
       "      <td>東城</td>\n",
       "      <td>11</td>\n",
       "      <td>Beijing</td>\n",
       "      <td>北京</td>\n",
       "      <td>北京</td>\n",
       "      <td>1011001</td>\n",
       "    </tr>\n",
       "    <tr>\n",
       "      <th>1</th>\n",
       "      <td>2</td>\n",
       "      <td>Xicheng</td>\n",
       "      <td>西城</td>\n",
       "      <td>西城</td>\n",
       "      <td>11</td>\n",
       "      <td>Beijing</td>\n",
       "      <td>北京</td>\n",
       "      <td>北京</td>\n",
       "      <td>1011002</td>\n",
       "    </tr>\n",
       "    <tr>\n",
       "      <th>2</th>\n",
       "      <td>3</td>\n",
       "      <td>Chongwen</td>\n",
       "      <td>崇文</td>\n",
       "      <td>崇文</td>\n",
       "      <td>11</td>\n",
       "      <td>Beijing</td>\n",
       "      <td>北京</td>\n",
       "      <td>北京</td>\n",
       "      <td>1011003</td>\n",
       "    </tr>\n",
       "    <tr>\n",
       "      <th>3</th>\n",
       "      <td>4</td>\n",
       "      <td>Xuanwu</td>\n",
       "      <td>宣武</td>\n",
       "      <td>宣武</td>\n",
       "      <td>11</td>\n",
       "      <td>Beijing</td>\n",
       "      <td>北京</td>\n",
       "      <td>北京</td>\n",
       "      <td>1011004</td>\n",
       "    </tr>\n",
       "    <tr>\n",
       "      <th>4</th>\n",
       "      <td>5</td>\n",
       "      <td>Chaoyang</td>\n",
       "      <td>朝阳</td>\n",
       "      <td>朝陽</td>\n",
       "      <td>11</td>\n",
       "      <td>Beijing</td>\n",
       "      <td>北京</td>\n",
       "      <td>北京</td>\n",
       "      <td>1011005</td>\n",
       "    </tr>\n",
       "  </tbody>\n",
       "</table>\n",
       "</div>"
      ],
      "text/plain": [
       "   city    city_en city_sc city_tc  province province_en province_sc  \\\n",
       "0     1  Dongcheng      东城      東城        11     Beijing          北京   \n",
       "1     2    Xicheng      西城      西城        11     Beijing          北京   \n",
       "2     3   Chongwen      崇文      崇文        11     Beijing          北京   \n",
       "3     4     Xuanwu      宣武      宣武        11     Beijing          北京   \n",
       "4     5   Chaoyang      朝阳      朝陽        11     Beijing          北京   \n",
       "\n",
       "  province_tc   ref_id  \n",
       "0          北京  1011001  \n",
       "1          北京  1011002  \n",
       "2          北京  1011003  \n",
       "3          北京  1011004  \n",
       "4          北京  1011005  "
      ]
     },
     "execution_count": 5,
     "metadata": {},
     "output_type": "execute_result"
    }
   ],
   "source": [
    "df_province_city = pd.read_json(path + \"/\"+\"weibo-china-province-city.json\") #no duplicate rows\n",
    "\n",
    "#df_province_city.shape (502, 9)\n",
    "\n",
    "df_province_city.head()"
   ]
  },
  {
   "cell_type": "code",
   "execution_count": 6,
   "metadata": {},
   "outputs": [
    {
     "data": {
      "text/plain": [
       "(502, 9)"
      ]
     },
     "execution_count": 6,
     "metadata": {},
     "output_type": "execute_result"
    }
   ],
   "source": [
    "df_province_city.shape"
   ]
  },
  {
   "cell_type": "code",
   "execution_count": 7,
   "metadata": {},
   "outputs": [
    {
     "ename": "SyntaxError",
     "evalue": "invalid syntax (<ipython-input-7-3516a2907a7f>, line 4)",
     "output_type": "error",
     "traceback": [
      "\u001b[1;36m  File \u001b[1;32m\"<ipython-input-7-3516a2907a7f>\"\u001b[1;36m, line \u001b[1;32m4\u001b[0m\n\u001b[1;33m    comment_location = pd.merge(df_comment_province_city, ************, on = 'id', how ='left')\u001b[0m\n\u001b[1;37m                                                             ^\u001b[0m\n\u001b[1;31mSyntaxError\u001b[0m\u001b[1;31m:\u001b[0m invalid syntax\n"
     ]
    }
   ],
   "source": [
    "#map provinceand city for the comments\n",
    "df_comment_province_city = pd.merge(df_comment, df_province_city, on = ['province','city'])\n",
    "#map comments info to main df\n",
    "comment_location = pd.merge(df_comment_province_city, ************, on = 'id', how ='left')"
   ]
  }
 ],
 "metadata": {
  "kernelspec": {
   "display_name": "Python 3",
   "language": "python",
   "name": "python3"
  },
  "language_info": {
   "codemirror_mode": {
    "name": "ipython",
    "version": 3
   },
   "file_extension": ".py",
   "mimetype": "text/x-python",
   "name": "python",
   "nbconvert_exporter": "python",
   "pygments_lexer": "ipython3",
   "version": "3.6.4"
  }
 },
 "nbformat": 4,
 "nbformat_minor": 2
}
